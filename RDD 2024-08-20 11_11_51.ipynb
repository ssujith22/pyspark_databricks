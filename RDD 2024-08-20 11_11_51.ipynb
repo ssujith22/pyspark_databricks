{
 "cells": [
  {
   "cell_type": "code",
   "execution_count": 0,
   "metadata": {
    "application/vnd.databricks.v1+cell": {
     "cellMetadata": {
      "byteLimit": 2048000,
      "rowLimit": 10000
     },
     "inputWidgets": {},
     "nuid": "ad6295fd-8dd5-4e2b-9f71-480b9c28f634",
     "showTitle": false,
     "title": ""
    }
   },
   "outputs": [],
   "source": [
    "# Create RDD\n",
    "from pyspark.sql import SparkSession\n",
    "spark = SparkSession.builder.appName('rak').getOrCreate()\n",
    "#rdd =sc.textFile(\"/FileStore/tables/data-2.txt\")\n",
    "rdd =sc.textFile(\"/FileStore/tables/test.txt\")\n"
   ]
  },
  {
   "cell_type": "code",
   "execution_count": 0,
   "metadata": {
    "application/vnd.databricks.v1+cell": {
     "cellMetadata": {
      "byteLimit": 2048000,
      "rowLimit": 10000
     },
     "inputWidgets": {},
     "nuid": "c2a87ac9-8634-4f5e-80e9-b6db895bbf61",
     "showTitle": false,
     "title": ""
    }
   },
   "outputs": [
    {
     "output_type": "stream",
     "name": "stdout",
     "output_type": "stream",
     "text": [
      "Project Gutenberg’s\nAlice’s Adventures in Wonderland\nby Lewis Carroll\nThis eBook is for the use\nof anyone anywhere\nat no cost and with\nAlice’s Adventures in Wonderland\nby Lewis Carroll\nThis eBook is for the use\nof anyone anywhere\nat no cost and with\nThis eBook is for the use\nof anyone anywhere\nat no cost and with\nProject Gutenberg’s\nAlice’s Adventures in Wonderland\nby Lewis Carroll\nThis eBook is for the use\nof anyone anywhere\nat no cost and with\nAlice’s Adventures in Wonderland\nby Lewis Carroll\nThis eBook is for the use\nof anyone anywhere\nat no cost and with\nThis eBook is for the use\nof anyone anywhere\nat no cost and with\nProject Gutenberg’s\nAlice’s Adventures in Wonderland\nby Lewis Carroll\nThis eBook is for the use\nof anyone anywhere\nat no cost and with\nAlice’s Adventures in Wonderland\nby Lewis Carroll\nThis eBook is for the use\nof anyone anywhere\nat no cost and with\nThis eBook is for the use\nof anyone anywhere\nat no cost and with\nProject Gutenberg’s\nAlice’s Adventures in Wonderland\nby Lewis Carroll\nThis eBook is for the use\nof anyone anywhere\nat no cost and with\nAlice’s Adventures in Wonderland\nby Lewis Carroll\nThis eBook is for the use\nof anyone anywhere\nat no cost and with\nThis eBook is for the use\nof anyone anywhere\nat no cost and with\nProject Gutenberg’s\nAlice’s Adventures in Wonderland\nby Lewis Carroll\nThis eBook is for the use\nof anyone anywhere\nat no cost and with\nAlice’s Adventures in Wonderland\nby Lewis Carroll\nThis eBook is for the use\nof anyone anywhere\nat no cost and with\nThis eBook is for the use\nof anyone anywhere\nat no cost and with\nProject Gutenberg’s\nAlice’s Adventures in Wonderland\nby Lewis Carroll\nThis eBook is for the use\nof anyone anywhere\nat no cost and with\nAlice’s Adventures in Wonderland\nby Lewis Carroll\nThis eBook is for the use\nof anyone anywhere\nat no cost and with\nThis eBook is for the use\nof anyone anywhere\nat no cost and with\nProject Gutenberg’s\nAlice’s Adventures in Wonderland\nby Lewis Carroll\nThis eBook is for the use\nof anyone anywhere\nat no cost and with\nAlice’s Adventures in Wonderland\nby Lewis Carroll\nThis eBook is for the use\nof anyone anywhere\nat no cost and with\nThis eBook is for the use\nof anyone anywhere\nat no cost and with\nProject Gutenberg’s\nAlice’s Adventures in Wonderland\nby Lewis Carroll\nThis eBook is for the use\nof anyone anywhere\nat no cost and with\nAlice’s Adventures in Wonderland\nby Lewis Carroll\nThis eBook is for the use\nof anyone anywhere\nat no cost and with\nThis eBook is for the use\nof anyone anywhere\nat no cost and with\nProject Gutenberg’s\nAlice’s Adventures in Wonderland\nby Lewis Carroll\nThis eBook is for the use\nof anyone anywhere\nat no cost and with\nAlice’s Adventures in Wonderland\nby Lewis Carroll\nThis eBook is for the use\nof anyone anywhere\nat no cost and with\nThis eBook is for the use\nof anyone anywhere\nat no cost and with\n"
     ]
    }
   ],
   "source": [
    "for element in rdd.collect():\n",
    "    print(element)"
   ]
  },
  {
   "cell_type": "code",
   "execution_count": 0,
   "metadata": {
    "application/vnd.databricks.v1+cell": {
     "cellMetadata": {
      "byteLimit": 2048000,
      "rowLimit": 10000
     },
     "inputWidgets": {},
     "nuid": "f2b041a7-d90f-46cd-a79c-a540fab96c9e",
     "showTitle": false,
     "title": ""
    }
   },
   "outputs": [
    {
     "output_type": "display_data",
     "data": {
      "text/plain": [
       "\u001B[0;31m---------------------------------------------------------------------------\u001B[0m\n",
       "\u001B[0;31mNameError\u001B[0m                                 Traceback (most recent call last)\n",
       "File \u001B[0;32m<command-1692413617945998>:2\u001B[0m\n",
       "\u001B[1;32m      1\u001B[0m \u001B[38;5;66;03m# Using flatMap()\u001B[39;00m\n",
       "\u001B[0;32m----> 2\u001B[0m rdd2\u001B[38;5;241m=\u001B[39mrdd\u001B[38;5;241m.\u001B[39mflatMap(\u001B[38;5;28;01mlambda\u001B[39;00m x: x\u001B[38;5;241m.\u001B[39msplit(\u001B[38;5;124m\"\u001B[39m\u001B[38;5;124m \u001B[39m\u001B[38;5;124m\"\u001B[39m))\n",
       "\u001B[1;32m      3\u001B[0m \u001B[38;5;28;01mfor\u001B[39;00m element \u001B[38;5;129;01min\u001B[39;00m rdd2\u001B[38;5;241m.\u001B[39mcollect():\n",
       "\u001B[1;32m      4\u001B[0m     \u001B[38;5;28mprint\u001B[39m(element)\n",
       "\n",
       "\u001B[0;31mNameError\u001B[0m: name 'rdd' is not defined"
      ]
     },
     "metadata": {
      "application/vnd.databricks.v1+output": {
       "arguments": {},
       "data": "\u001B[0;31m---------------------------------------------------------------------------\u001B[0m\n\u001B[0;31mNameError\u001B[0m                                 Traceback (most recent call last)\nFile \u001B[0;32m<command-1692413617945998>:2\u001B[0m\n\u001B[1;32m      1\u001B[0m \u001B[38;5;66;03m# Using flatMap()\u001B[39;00m\n\u001B[0;32m----> 2\u001B[0m rdd2\u001B[38;5;241m=\u001B[39mrdd\u001B[38;5;241m.\u001B[39mflatMap(\u001B[38;5;28;01mlambda\u001B[39;00m x: x\u001B[38;5;241m.\u001B[39msplit(\u001B[38;5;124m\"\u001B[39m\u001B[38;5;124m \u001B[39m\u001B[38;5;124m\"\u001B[39m))\n\u001B[1;32m      3\u001B[0m \u001B[38;5;28;01mfor\u001B[39;00m element \u001B[38;5;129;01min\u001B[39;00m rdd2\u001B[38;5;241m.\u001B[39mcollect():\n\u001B[1;32m      4\u001B[0m     \u001B[38;5;28mprint\u001B[39m(element)\n\n\u001B[0;31mNameError\u001B[0m: name 'rdd' is not defined",
       "errorSummary": "<span class='ansi-red-fg'>NameError</span>: name 'rdd' is not defined",
       "errorTraceType": "ansi",
       "metadata": {},
       "type": "ipynbError"
      }
     },
     "output_type": "display_data"
    }
   ],
   "source": [
    "# Using flatMap()\n",
    "rdd2=rdd.flatMap(lambda x: x.split(\" \"))\n",
    "for element in rdd2.collect():\n",
    "    print(element)"
   ]
  },
  {
   "cell_type": "code",
   "execution_count": 0,
   "metadata": {
    "application/vnd.databricks.v1+cell": {
     "cellMetadata": {
      "byteLimit": 2048000,
      "rowLimit": 10000
     },
     "inputWidgets": {},
     "nuid": "c14bdc6b-17a1-43b0-873a-0cf7228420c4",
     "showTitle": false,
     "title": ""
    }
   },
   "outputs": [
    {
     "output_type": "stream",
     "name": "stdout",
     "output_type": "stream",
     "text": [
      "('Project', 1)\n('Gutenberg’s', 1)\n('Alice’s', 1)\n('Adventures', 1)\n('in', 1)\n('Wonderland', 1)\n('by', 1)\n('Lewis', 1)\n('Carroll', 1)\n('This', 1)\n('eBook', 1)\n('is', 1)\n('for', 1)\n('the', 1)\n('use', 1)\n('of', 1)\n('anyone', 1)\n('anywhere', 1)\n('at', 1)\n('no', 1)\n('cost', 1)\n('and', 1)\n('with', 1)\n('Alice’s', 1)\n('Adventures', 1)\n('in', 1)\n('Wonderland', 1)\n('by', 1)\n('Lewis', 1)\n('Carroll', 1)\n('This', 1)\n('eBook', 1)\n('is', 1)\n('for', 1)\n('the', 1)\n('use', 1)\n('of', 1)\n('anyone', 1)\n('anywhere', 1)\n('at', 1)\n('no', 1)\n('cost', 1)\n('and', 1)\n('with', 1)\n('This', 1)\n('eBook', 1)\n('is', 1)\n('for', 1)\n('the', 1)\n('use', 1)\n('of', 1)\n('anyone', 1)\n('anywhere', 1)\n('at', 1)\n('no', 1)\n('cost', 1)\n('and', 1)\n('with', 1)\n('Project', 1)\n('Gutenberg’s', 1)\n('Alice’s', 1)\n('Adventures', 1)\n('in', 1)\n('Wonderland', 1)\n('by', 1)\n('Lewis', 1)\n('Carroll', 1)\n('This', 1)\n('eBook', 1)\n('is', 1)\n('for', 1)\n('the', 1)\n('use', 1)\n('of', 1)\n('anyone', 1)\n('anywhere', 1)\n('at', 1)\n('no', 1)\n('cost', 1)\n('and', 1)\n('with', 1)\n('Alice’s', 1)\n('Adventures', 1)\n('in', 1)\n('Wonderland', 1)\n('by', 1)\n('Lewis', 1)\n('Carroll', 1)\n('This', 1)\n('eBook', 1)\n('is', 1)\n('for', 1)\n('the', 1)\n('use', 1)\n('of', 1)\n('anyone', 1)\n('anywhere', 1)\n('at', 1)\n('no', 1)\n('cost', 1)\n('and', 1)\n('with', 1)\n('This', 1)\n('eBook', 1)\n('is', 1)\n('for', 1)\n('the', 1)\n('use', 1)\n('of', 1)\n('anyone', 1)\n('anywhere', 1)\n('at', 1)\n('no', 1)\n('cost', 1)\n('and', 1)\n('with', 1)\n('Project', 1)\n('Gutenberg’s', 1)\n('Alice’s', 1)\n('Adventures', 1)\n('in', 1)\n('Wonderland', 1)\n('by', 1)\n('Lewis', 1)\n('Carroll', 1)\n('This', 1)\n('eBook', 1)\n('is', 1)\n('for', 1)\n('the', 1)\n('use', 1)\n('of', 1)\n('anyone', 1)\n('anywhere', 1)\n('at', 1)\n('no', 1)\n('cost', 1)\n('and', 1)\n('with', 1)\n('Alice’s', 1)\n('Adventures', 1)\n('in', 1)\n('Wonderland', 1)\n('by', 1)\n('Lewis', 1)\n('Carroll', 1)\n('This', 1)\n('eBook', 1)\n('is', 1)\n('for', 1)\n('the', 1)\n('use', 1)\n('of', 1)\n('anyone', 1)\n('anywhere', 1)\n('at', 1)\n('no', 1)\n('cost', 1)\n('and', 1)\n('with', 1)\n('This', 1)\n('eBook', 1)\n('is', 1)\n('for', 1)\n('the', 1)\n('use', 1)\n('of', 1)\n('anyone', 1)\n('anywhere', 1)\n('at', 1)\n('no', 1)\n('cost', 1)\n('and', 1)\n('with', 1)\n('Project', 1)\n('Gutenberg’s', 1)\n('Alice’s', 1)\n('Adventures', 1)\n('in', 1)\n('Wonderland', 1)\n('by', 1)\n('Lewis', 1)\n('Carroll', 1)\n('This', 1)\n('eBook', 1)\n('is', 1)\n('for', 1)\n('the', 1)\n('use', 1)\n('of', 1)\n('anyone', 1)\n('anywhere', 1)\n('at', 1)\n('no', 1)\n('cost', 1)\n('and', 1)\n('with', 1)\n('Alice’s', 1)\n('Adventures', 1)\n('in', 1)\n('Wonderland', 1)\n('by', 1)\n('Lewis', 1)\n('Carroll', 1)\n('This', 1)\n('eBook', 1)\n('is', 1)\n('for', 1)\n('the', 1)\n('use', 1)\n('of', 1)\n('anyone', 1)\n('anywhere', 1)\n('at', 1)\n('no', 1)\n('cost', 1)\n('and', 1)\n('with', 1)\n('This', 1)\n('eBook', 1)\n('is', 1)\n('for', 1)\n('the', 1)\n('use', 1)\n('of', 1)\n('anyone', 1)\n('anywhere', 1)\n('at', 1)\n('no', 1)\n('cost', 1)\n('and', 1)\n('with', 1)\n('Project', 1)\n('Gutenberg’s', 1)\n('Alice’s', 1)\n('Adventures', 1)\n('in', 1)\n('Wonderland', 1)\n('by', 1)\n('Lewis', 1)\n('Carroll', 1)\n('This', 1)\n('eBook', 1)\n('is', 1)\n('for', 1)\n('the', 1)\n('use', 1)\n('of', 1)\n('anyone', 1)\n('anywhere', 1)\n('at', 1)\n('no', 1)\n('cost', 1)\n('and', 1)\n('with', 1)\n('Alice’s', 1)\n('Adventures', 1)\n('in', 1)\n('Wonderland', 1)\n('by', 1)\n('Lewis', 1)\n('Carroll', 1)\n('This', 1)\n('eBook', 1)\n('is', 1)\n('for', 1)\n('the', 1)\n('use', 1)\n('of', 1)\n('anyone', 1)\n('anywhere', 1)\n('at', 1)\n('no', 1)\n('cost', 1)\n('and', 1)\n('with', 1)\n('This', 1)\n('eBook', 1)\n('is', 1)\n('for', 1)\n('the', 1)\n('use', 1)\n('of', 1)\n('anyone', 1)\n('anywhere', 1)\n('at', 1)\n('no', 1)\n('cost', 1)\n('and', 1)\n('with', 1)\n('Project', 1)\n('Gutenberg’s', 1)\n('Alice’s', 1)\n('Adventures', 1)\n('in', 1)\n('Wonderland', 1)\n('by', 1)\n('Lewis', 1)\n('Carroll', 1)\n('This', 1)\n('eBook', 1)\n('is', 1)\n('for', 1)\n('the', 1)\n('use', 1)\n('of', 1)\n('anyone', 1)\n('anywhere', 1)\n('at', 1)\n('no', 1)\n('cost', 1)\n('and', 1)\n('with', 1)\n('Alice’s', 1)\n('Adventures', 1)\n('in', 1)\n('Wonderland', 1)\n('by', 1)\n('Lewis', 1)\n('Carroll', 1)\n('This', 1)\n('eBook', 1)\n('is', 1)\n('for', 1)\n('the', 1)\n('use', 1)\n('of', 1)\n('anyone', 1)\n('anywhere', 1)\n('at', 1)\n('no', 1)\n('cost', 1)\n('and', 1)\n('with', 1)\n('This', 1)\n('eBook', 1)\n('is', 1)\n('for', 1)\n('the', 1)\n('use', 1)\n('of', 1)\n('anyone', 1)\n('anywhere', 1)\n('at', 1)\n('no', 1)\n('cost', 1)\n('and', 1)\n('with', 1)\n('Project', 1)\n('Gutenberg’s', 1)\n('Alice’s', 1)\n('Adventures', 1)\n('in', 1)\n('Wonderland', 1)\n('by', 1)\n('Lewis', 1)\n('Carroll', 1)\n('This', 1)\n('eBook', 1)\n('is', 1)\n('for', 1)\n('the', 1)\n('use', 1)\n('of', 1)\n('anyone', 1)\n('anywhere', 1)\n('at', 1)\n('no', 1)\n('cost', 1)\n('and', 1)\n('with', 1)\n('Alice’s', 1)\n('Adventures', 1)\n('in', 1)\n('Wonderland', 1)\n('by', 1)\n('Lewis', 1)\n('Carroll', 1)\n('This', 1)\n('eBook', 1)\n('is', 1)\n('for', 1)\n('the', 1)\n('use', 1)\n('of', 1)\n('anyone', 1)\n('anywhere', 1)\n('at', 1)\n('no', 1)\n('cost', 1)\n('and', 1)\n('with', 1)\n('This', 1)\n('eBook', 1)\n('is', 1)\n('for', 1)\n('the', 1)\n('use', 1)\n('of', 1)\n('anyone', 1)\n('anywhere', 1)\n('at', 1)\n('no', 1)\n('cost', 1)\n('and', 1)\n('with', 1)\n('Project', 1)\n('Gutenberg’s', 1)\n('Alice’s', 1)\n('Adventures', 1)\n('in', 1)\n('Wonderland', 1)\n('by', 1)\n('Lewis', 1)\n('Carroll', 1)\n('This', 1)\n('eBook', 1)\n('is', 1)\n('for', 1)\n('the', 1)\n('use', 1)\n('of', 1)\n('anyone', 1)\n('anywhere', 1)\n('at', 1)\n('no', 1)\n('cost', 1)\n('and', 1)\n('with', 1)\n('Alice’s', 1)\n('Adventures', 1)\n('in', 1)\n('Wonderland', 1)\n('by', 1)\n('Lewis', 1)\n('Carroll', 1)\n('This', 1)\n('eBook', 1)\n('is', 1)\n('for', 1)\n('the', 1)\n('use', 1)\n('of', 1)\n('anyone', 1)\n('anywhere', 1)\n('at', 1)\n('no', 1)\n('cost', 1)\n('and', 1)\n('with', 1)\n('This', 1)\n('eBook', 1)\n('is', 1)\n('for', 1)\n('the', 1)\n('use', 1)\n('of', 1)\n('anyone', 1)\n('anywhere', 1)\n('at', 1)\n('no', 1)\n('cost', 1)\n('and', 1)\n('with', 1)\n('Project', 1)\n('Gutenberg’s', 1)\n('Alice’s', 1)\n('Adventures', 1)\n('in', 1)\n('Wonderland', 1)\n('by', 1)\n('Lewis', 1)\n('Carroll', 1)\n('This', 1)\n('eBook', 1)\n('is', 1)\n('for', 1)\n('the', 1)\n('use', 1)\n('of', 1)\n('anyone', 1)\n('anywhere', 1)\n('at', 1)\n('no', 1)\n('cost', 1)\n('and', 1)\n('with', 1)\n('Alice’s', 1)\n('Adventures', 1)\n('in', 1)\n('Wonderland', 1)\n('by', 1)\n('Lewis', 1)\n('Carroll', 1)\n('This', 1)\n('eBook', 1)\n('is', 1)\n('for', 1)\n('the', 1)\n('use', 1)\n('of', 1)\n('anyone', 1)\n('anywhere', 1)\n('at', 1)\n('no', 1)\n('cost', 1)\n('and', 1)\n('with', 1)\n('This', 1)\n('eBook', 1)\n('is', 1)\n('for', 1)\n('the', 1)\n('use', 1)\n('of', 1)\n('anyone', 1)\n('anywhere', 1)\n('at', 1)\n('no', 1)\n('cost', 1)\n('and', 1)\n('with', 1)\n"
     ]
    }
   ],
   "source": [
    "# Using map()\n",
    "rdd3=rdd2.map(lambda x: (x,1))\n",
    "for element in rdd3.collect():\n",
    "    print(element)"
   ]
  },
  {
   "cell_type": "code",
   "execution_count": 0,
   "metadata": {
    "application/vnd.databricks.v1+cell": {
     "cellMetadata": {},
     "inputWidgets": {},
     "nuid": "6a76d377-8342-45e2-9995-4a0d5f5d0641",
     "showTitle": false,
     "title": ""
    }
   },
   "outputs": [],
   "source": []
  },
  {
   "cell_type": "code",
   "execution_count": 0,
   "metadata": {
    "application/vnd.databricks.v1+cell": {
     "cellMetadata": {
      "byteLimit": 2048000,
      "rowLimit": 10000
     },
     "inputWidgets": {},
     "nuid": "ef749f25-1389-4392-841f-11533259e537",
     "showTitle": false,
     "title": ""
    }
   },
   "outputs": [
    {
     "output_type": "display_data",
     "data": {
      "text/plain": [
       "\u001B[0;36m  File \u001B[0;32m<command-1692413617946000>:2\u001B[0;36m\u001B[0m\n",
       "\u001B[0;31m    rdd6 = rdd5.filter(lamda x : 'a' in x[1])\u001B[0m\n",
       "\u001B[0m                             ^\u001B[0m\n",
       "\u001B[0;31mSyntaxError\u001B[0m\u001B[0;31m:\u001B[0m invalid syntax\n"
      ]
     },
     "metadata": {
      "application/vnd.databricks.v1+output": {
       "arguments": {},
       "data": "\u001B[0;36m  File \u001B[0;32m<command-1692413617946000>:2\u001B[0;36m\u001B[0m\n\u001B[0;31m    rdd6 = rdd5.filter(lamda x : 'a' in x[1])\u001B[0m\n\u001B[0m                             ^\u001B[0m\n\u001B[0;31mSyntaxError\u001B[0m\u001B[0;31m:\u001B[0m invalid syntax\n",
       "errorSummary": "<span class='ansi-red-fg'>SyntaxError</span>: invalid syntax (<command-1692413617946000>, line 2)",
       "errorTraceType": "ansi",
       "metadata": {},
       "type": "ipynbError"
      }
     },
     "output_type": "display_data"
    }
   ],
   "source": [
    "#fileter\n",
    "rdd6 = rdd5.filter(lamda x : 'a' in x[1])\n",
    "for element in rdd6.collect():\n",
    "    print(element)"
   ]
  }
 ],
 "metadata": {
  "application/vnd.databricks.v1+notebook": {
   "dashboards": [],
   "environmentMetadata": null,
   "language": "python",
   "notebookMetadata": {
    "pythonIndentUnit": 4
   },
   "notebookName": "RDD 2024-08-20 11:11:51",
   "widgets": {}
  }
 },
 "nbformat": 4,
 "nbformat_minor": 0
}

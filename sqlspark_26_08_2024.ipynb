{
 "cells": [
  {
   "cell_type": "code",
   "execution_count": 0,
   "metadata": {
    "application/vnd.databricks.v1+cell": {
     "cellMetadata": {
      "byteLimit": 2048000,
      "rowLimit": 10000
     },
     "inputWidgets": {},
     "nuid": "84fb139e-749c-40ee-a8ec-e1e54d93a7ba",
     "showTitle": false,
     "title": ""
    }
   },
   "outputs": [],
   "source": [
    "from pyspark.sql import SparkSession\n",
    "from pyspark import SparkConf\n",
    "\n",
    "# Create Spark configuration\n",
    "conf = SparkConf().setAppName(\"Airline Delay Analysis\").setMaster(\"local[*]\")\n",
    "\n",
    "# Initialize Spark session\n",
    "spark = SparkSession.builder.config(conf=conf).getOrCreate()\n"
   ]
  },
  {
   "cell_type": "code",
   "execution_count": 0,
   "metadata": {
    "application/vnd.databricks.v1+cell": {
     "cellMetadata": {
      "byteLimit": 2048000,
      "rowLimit": 10000
     },
     "inputWidgets": {},
     "nuid": "3386fbb9-35a3-46a4-a5d2-34d911ab3f12",
     "showTitle": false,
     "title": ""
    }
   },
   "outputs": [],
   "source": [
    "# Load the dataset\n",
    "df = spark.read.csv('/FileStore/tables/Flights_Delay.csv', header=True, inferSchema=True)\n",
    "\n",
    "# Create a temporary view for SQL queries\n",
    "df.createOrReplaceTempView(\"flights\")"
   ]
  },
  {
   "cell_type": "code",
   "execution_count": 0,
   "metadata": {
    "application/vnd.databricks.v1+cell": {
     "cellMetadata": {
      "byteLimit": 2048000,
      "rowLimit": 10000
     },
     "inputWidgets": {},
     "nuid": "6a9f79a4-a62f-426d-b923-07533e4a57f9",
     "showTitle": false,
     "title": ""
    }
   },
   "outputs": [],
   "source": [
    "# Save the DataFrame as a Hive table\n",
    "df.write.mode(\"overwrite\").saveAsTable(\"flights_table\")"
   ]
  },
  {
   "cell_type": "code",
   "execution_count": 0,
   "metadata": {
    "application/vnd.databricks.v1+cell": {
     "cellMetadata": {
      "byteLimit": 2048000,
      "rowLimit": 10000
     },
     "inputWidgets": {},
     "nuid": "ba932b85-92a4-44a5-b483-364df292cca9",
     "showTitle": false,
     "title": ""
    }
   },
   "outputs": [
    {
     "output_type": "stream",
     "name": "stdout",
     "output_type": "stream",
     "text": [
      "root\n |-- ID: integer (nullable = true)\n |-- YEAR: integer (nullable = true)\n |-- MONTH: integer (nullable = true)\n |-- DAY: integer (nullable = true)\n |-- DAY_OF_WEEK: integer (nullable = true)\n |-- AIRLINE: string (nullable = true)\n |-- FLIGHT_NUMBER: integer (nullable = true)\n |-- TAIL_NUMBER: string (nullable = true)\n |-- ORIGIN_AIRPORT: string (nullable = true)\n |-- DESTINATION_AIRPORT: string (nullable = true)\n |-- SCHEDULED_DEPARTURE: integer (nullable = true)\n |-- DEPARTURE_TIME: integer (nullable = true)\n |-- DEPARTURE_DELAY: integer (nullable = true)\n |-- TAXI_OUT: integer (nullable = true)\n |-- WHEELS_OFF: integer (nullable = true)\n |-- SCHEDULED_TIME: integer (nullable = true)\n |-- ELAPSED_TIME: integer (nullable = true)\n |-- AIR_TIME: integer (nullable = true)\n |-- DISTANCE: integer (nullable = true)\n |-- WHEELS_ON: integer (nullable = true)\n |-- TAXI_IN: integer (nullable = true)\n |-- SCHEDULED_ARRIVAL: integer (nullable = true)\n |-- ARRIVAL_TIME: integer (nullable = true)\n |-- ARRIVAL_DELAY: integer (nullable = true)\n |-- DIVERTED: integer (nullable = true)\n |-- CANCELLED: integer (nullable = true)\n |-- CANCELLATION_REASON: string (nullable = true)\n |-- AIR_SYSTEM_DELAY: integer (nullable = true)\n |-- SECURITY_DELAY: integer (nullable = true)\n |-- AIRLINE_DELAY: integer (nullable = true)\n |-- LATE_AIRCRAFT_DELAY: integer (nullable = true)\n |-- WEATHER_DELAY: integer (nullable = true)\n\n+---+----+-----+---+-----------+-------+-------------+-----------+--------------+-------------------+-------------------+--------------+---------------+--------+----------+--------------+------------+--------+--------+---------+-------+-----------------+------------+-------------+--------+---------+-------------------+----------------+--------------+-------------+-------------------+-------------+\n| ID|YEAR|MONTH|DAY|DAY_OF_WEEK|AIRLINE|FLIGHT_NUMBER|TAIL_NUMBER|ORIGIN_AIRPORT|DESTINATION_AIRPORT|SCHEDULED_DEPARTURE|DEPARTURE_TIME|DEPARTURE_DELAY|TAXI_OUT|WHEELS_OFF|SCHEDULED_TIME|ELAPSED_TIME|AIR_TIME|DISTANCE|WHEELS_ON|TAXI_IN|SCHEDULED_ARRIVAL|ARRIVAL_TIME|ARRIVAL_DELAY|DIVERTED|CANCELLED|CANCELLATION_REASON|AIR_SYSTEM_DELAY|SECURITY_DELAY|AIRLINE_DELAY|LATE_AIRCRAFT_DELAY|WEATHER_DELAY|\n+---+----+-----+---+-----------+-------+-------------+-----------+--------------+-------------------+-------------------+--------------+---------------+--------+----------+--------------+------------+--------+--------+---------+-------+-----------------+------------+-------------+--------+---------+-------------------+----------------+--------------+-------------+-------------------+-------------+\n|  1|2015|    2|  2|          1|     MQ|         3584|     N646MQ|           DFW|                SPS|               1240|          1316|             36|      11|      1327|            50|          46|      30|     113|     1357|      5|             1330|        1402|           32|       0|        0|               null|               0|             0|           32|                  0|            0|\n|  6|2015|    2| 19|          4|     OO|         5166|     N746SK|           HDN|                DEN|                928|           924|             -4|      11|       935|            67|          56|      29|     141|     1004|     16|             1035|        1020|          -15|       0|        0|               null|            null|          null|         null|               null|         null|\n| 14|2015|    2| 23|          1|     OO|         5416|     N927SW|           ONT|                SFO|               1733|          1727|             -6|      15|      1742|            88|          87|      68|     363|     1850|      4|             1901|        1854|           -7|       0|        0|               null|            null|          null|         null|               null|         null|\n| 15|2015|    1| 10|          6|     MQ|         3196|     N607MQ|           SAF|                DFW|               1100|          1051|             -9|       7|      1058|            95|          97|      76|     551|     1314|     14|             1335|        1328|           -7|       0|        0|               null|            null|          null|         null|               null|         null|\n| 18|2015|    2| 24|          2|     OO|         6196|     N751SK|           ONT|                IAH|                701|           806|             65|      24|       830|           189|         180|     145|    1334|     1255|     11|             1210|        1306|           56|       0|        0|               null|               0|             0|           56|                  0|            0|\n| 19|2015|    1| 30|          5|     MQ|         3401|     N609MQ|           SHV|                DFW|               1615|          1611|             -4|       8|      1619|            60|          61|      42|     190|     1701|     11|             1715|        1712|           -3|       0|        0|               null|            null|          null|         null|               null|         null|\n| 23|2015|    2| 24|          2|     MQ|         3247|     N675MQ|           ORF|                MIA|               1745|          1744|             -1|      48|      1832|           154|         178|     126|     802|     2038|      4|             2019|        2042|           23|       0|        0|               null|              23|             0|            0|                  0|            0|\n| 25|2015|    2| 11|          3|     MQ|         2972|     N625MQ|           DFW|                SHV|               1315|          1311|             -4|      16|      1327|            57|          52|      31|     190|     1358|      5|             1412|        1403|           -9|       0|        0|               null|            null|          null|         null|               null|         null|\n| 27|2015|    2|  1|          7|     OO|         2699|     N897SK|           PHX|                FAT|               1445|          1943|            298|      20|      2003|           105|         100|      76|     493|     2019|      4|             1530|        2023|          293|       0|        0|               null|               0|             0|            0|                293|            0|\n| 44|2015|    1|  2|          5|     OO|         4544|     N825SK|           LAX|                SMF|               1925|          2145|            140|      27|      2212|            89|         102|      69|     373|     2321|      6|             2054|        2327|          153|       0|        0|               null|              13|             0|            0|                140|            0|\n+---+----+-----+---+-----------+-------+-------------+-----------+--------------+-------------------+-------------------+--------------+---------------+--------+----------+--------------+------------+--------+--------+---------+-------+-----------------+------------+-------------+--------+---------+-------------------+----------------+--------------+-------------+-------------------+-------------+\nonly showing top 10 rows\n\n"
     ]
    }
   ],
   "source": [
    "# Describe the table schema\n",
    "df.printSchema()\n",
    "\n",
    "# Show top 10 rows\n",
    "df.show(10)"
   ]
  },
  {
   "cell_type": "code",
   "execution_count": 0,
   "metadata": {
    "application/vnd.databricks.v1+cell": {
     "cellMetadata": {
      "byteLimit": 2048000,
      "rowLimit": 10000
     },
     "inputWidgets": {},
     "nuid": "9a42ac1e-5f0e-4064-848a-b75af0ad34a4",
     "showTitle": false,
     "title": ""
    }
   },
   "outputs": [],
   "source": [
    "df = df.repartition(10, \"AIRLINE\")"
   ]
  },
  {
   "cell_type": "code",
   "execution_count": 0,
   "metadata": {
    "application/vnd.databricks.v1+cell": {
     "cellMetadata": {
      "byteLimit": 2048000,
      "rowLimit": 10000
     },
     "inputWidgets": {},
     "nuid": "0d00a008-b599-4c55-a46a-4ba96faa9a28",
     "showTitle": false,
     "title": ""
    }
   },
   "outputs": [],
   "source": [
    "df.write.mode(\"overwrite\").parquet(\"/mnt/data/Flights_Delay_Parquet\")"
   ]
  },
  {
   "cell_type": "code",
   "execution_count": 0,
   "metadata": {
    "application/vnd.databricks.v1+cell": {
     "cellMetadata": {
      "byteLimit": 2048000,
      "rowLimit": 10000
     },
     "inputWidgets": {},
     "nuid": "8987c9b4-8037-4a6b-a4d7-28b3c1c40043",
     "showTitle": false,
     "title": ""
    }
   },
   "outputs": [
    {
     "output_type": "stream",
     "name": "stdout",
     "output_type": "stream",
     "text": [
      "Out[7]: DataFrame[ID: int, YEAR: int, MONTH: int, DAY: int, DAY_OF_WEEK: int, AIRLINE: string, FLIGHT_NUMBER: int, TAIL_NUMBER: string, ORIGIN_AIRPORT: string, DESTINATION_AIRPORT: string, SCHEDULED_DEPARTURE: int, DEPARTURE_TIME: int, DEPARTURE_DELAY: int, TAXI_OUT: int, WHEELS_OFF: int, SCHEDULED_TIME: int, ELAPSED_TIME: int, AIR_TIME: int, DISTANCE: int, WHEELS_ON: int, TAXI_IN: int, SCHEDULED_ARRIVAL: int, ARRIVAL_TIME: int, ARRIVAL_DELAY: int, DIVERTED: int, CANCELLED: int, CANCELLATION_REASON: string, AIR_SYSTEM_DELAY: int, SECURITY_DELAY: int, AIRLINE_DELAY: int, LATE_AIRCRAFT_DELAY: int, WEATHER_DELAY: int]"
     ]
    }
   ],
   "source": [
    "df.cache()"
   ]
  },
  {
   "cell_type": "code",
   "execution_count": 0,
   "metadata": {
    "application/vnd.databricks.v1+cell": {
     "cellMetadata": {
      "byteLimit": 2048000,
      "rowLimit": 10000
     },
     "inputWidgets": {},
     "nuid": "80624c4a-44d0-4d00-bb0e-29f2c299976e",
     "showTitle": false,
     "title": ""
    }
   },
   "outputs": [],
   "source": [
    "filtered_df = df.filter(df.ARRIVAL_DELAY > 0)"
   ]
  },
  {
   "cell_type": "code",
   "execution_count": 0,
   "metadata": {
    "application/vnd.databricks.v1+cell": {
     "cellMetadata": {
      "byteLimit": 2048000,
      "rowLimit": 10000
     },
     "inputWidgets": {},
     "nuid": "2807b3a7-b8fb-432b-9886-946d61fa9935",
     "showTitle": false,
     "title": ""
    }
   },
   "outputs": [
    {
     "output_type": "stream",
     "name": "stdout",
     "output_type": "stream",
     "text": [
      "+-------+------------------+\n|AIRLINE|         avg_delay|\n+-------+------------------+\n|     F9|24.103448275862068|\n|     MQ|19.231592604605904|\n|     NK|14.206426484907498|\n|     B6| 13.95852534562212|\n|     EV|10.884270870655678|\n|     OO|10.154792043399638|\n|     AA| 8.386631979187513|\n|     UA| 6.697221614526362|\n|     US| 5.977315185481719|\n|     VX| 5.128571428571429|\n|     HA| 4.072423398328691|\n|     WN| 3.697840458351697|\n|     DL|2.8144726712856043|\n|     AS|-1.531766200762389|\n+-------+------------------+\n\n"
     ]
    }
   ],
   "source": [
    "avg_arrival_delay = spark.sql(\"\"\"\n",
    "SELECT AIRLINE, AVG(ARRIVAL_DELAY) as avg_delay\n",
    "FROM flights\n",
    "GROUP BY AIRLINE\n",
    "ORDER BY avg_delay DESC\n",
    "\"\"\")\n",
    "avg_arrival_delay.show()"
   ]
  }
 ],
 "metadata": {
  "application/vnd.databricks.v1+notebook": {
   "dashboards": [],
   "environmentMetadata": null,
   "language": "python",
   "notebookMetadata": {
    "pythonIndentUnit": 4
   },
   "notebookName": "sqlspark_26_08_2024",
   "widgets": {}
  }
 },
 "nbformat": 4,
 "nbformat_minor": 0
}
